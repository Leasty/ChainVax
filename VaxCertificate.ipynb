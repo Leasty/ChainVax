{
 "cells": [
  {
   "cell_type": "code",
   "execution_count": 2,
   "id": "161a84af-589c-4afa-90d8-2ec131ab71c6",
   "metadata": {},
   "outputs": [],
   "source": [
    "#import the necessary libraries</pre>\n",
    "  \n",
    "import cv2 as cv\n",
    "import openpyxl"
   ]
  },
  {
   "cell_type": "code",
   "execution_count": 4,
   "id": "8575555a-d4aa-4db7-9f30-ea559d04940b",
   "metadata": {},
   "outputs": [],
   "source": [
    "# VaxCertiTemple.png is the template\n",
    "# certificate\n",
    "vax_certi_temple_path = 'VaxCertiTemple.png'"
   ]
  },
  {
   "cell_type": "code",
   "execution_count": 7,
   "id": "d031bdc7-653b-4cff-aeb5-74266db403d8",
   "metadata": {},
   "outputs": [],
   "source": [
    "# Output Paths\n",
    "output_path = './'"
   ]
  },
  {
   "cell_type": "code",
   "execution_count": 8,
   "id": "5af8502e-8a40-4ae7-a3eb-78c11c3e5940",
   "metadata": {},
   "outputs": [],
   "source": [
    "# Setting the font size and font\n",
    "# colour\n",
    "font_size = 1\n",
    "font_color = (0,0,0)"
   ]
  },
  {
   "cell_type": "code",
   "execution_count": 9,
   "id": "41ae1342-7dfd-40a1-bcb1-81147d30764c",
   "metadata": {},
   "outputs": [],
   "source": [
    "# Info that needs to be printed on the certificate \n",
    "\n",
    "name = \"\"\n",
    "dob = \"\"\n",
    "valid_from = \"\"\n",
    "vax_serial_number = \"\"\n",
    "vax1 = \"\"\n",
    "vax2 = \"\""
   ]
  },
  {
   "cell_type": "code",
   "execution_count": 10,
   "id": "726ec4b8-63cc-4f5d-86e7-0b6280c6d77f",
   "metadata": {},
   "outputs": [],
   "source": [
    "# printing for the first 10 names in the\n",
    "# excel sheet\n",
    "def vax_cert (name, dob, valid_from, vax_serial_number, vax1, vax2):\n",
    "    \n",
    "    # read the certificate template\n",
    "    vax_img = cv.imread(vax_certi_temple_path)\n",
    "\n",
    "    # choose the font from opencv\n",
    "    font = cv.FONT_HERSHEY_DUPLEX              \n",
    "\n",
    "    # get the size of the name to be\n",
    "    # printed\n",
    "    text_size = cv.getTextSize(name,font, font_size, 4)[0]     \n",
    "\n",
    "    cv.putText(vax_img, name,(50,252),font,font_size,font_color,1)\n",
    "    cv.putText(vax_img, dob,(50,310),font,font_size,font_color,1)\n",
    "    cv.putText(vax_img, valid_from,(50,373),font,font_size,font_color,1)\n",
    "    cv.putText(vax_img, vax_serial_number,(20,490),font,font_size,font_color,1)\n",
    "    cv.putText(vax_img, vax1,(10,545),font,font_size,font_color,1)\n",
    "    cv.putText(vax_img, vax2,(10,570),font,font_size,font_color,1)\n",
    "\n",
    "    # Output path along with the name of the\n",
    "    # certificate generated\n",
    "    certi_path = output_path + '/VaxCert2' + '.png'\n",
    "\n",
    "    # Save the certificate                      \n",
    "    cv.imwrite(certi_path,vax_img)\n",
    "    \n",
    "    return vax_cert"
   ]
  },
  {
   "cell_type": "code",
   "execution_count": null,
   "id": "345665cb-565f-44e2-93e8-1cbd1f654099",
   "metadata": {},
   "outputs": [],
   "source": []
  },
  {
   "cell_type": "code",
   "execution_count": null,
   "id": "f2d95cdc-780b-4534-a1e6-1a289887b84c",
   "metadata": {},
   "outputs": [],
   "source": []
  },
  {
   "cell_type": "code",
   "execution_count": 27,
   "id": "6b283a5f-373b-4d9a-bb8b-bf8824a4c94f",
   "metadata": {},
   "outputs": [
    {
     "data": {
      "image/png": "[encoded data removed]",
      "text/plain": [
       "<qrcode.image.pil.PilImage at 0x7f990005fbd0>"
      ]
     },
     "execution_count": 27,
     "metadata": {},
     "output_type": "execute_result"
    }
   ],
   "source": [
    "import qrcode\n",
    "\n",
    "features = qrcode.QRCode(version=1,box_size=3,border=10)\n",
    "\n",
    "features.add_data(certi_path)\n",
    "\n",
    "features.make(fit=True)\n",
    "\n",
    "certi_qrcode = features.make_image(fill_color=\"green\", back_color=\"white\")\n",
    "certi_qrcode"
   ]
  },
  {
   "cell_type": "code",
   "execution_count": 1,
   "id": "c28d398a-453a-4228-a8bf-d1c051c9bdeb",
   "metadata": {},
   "outputs": [
    {
     "data": {
      "image/png": "[encoded data removed]",
      "text/plain": [
       "<qrcode.image.pil.PilImage at 0x7f99413d6f90>"
      ]
     },
     "execution_count": 1,
     "metadata": {},
     "output_type": "execute_result"
    }
   ],
   "source": [
    "# generate qrcode for this certificate\n",
    "import qrcode\n",
    "\n",
    "features = qrcode.QRCode(version=1,box_size=3,border=10)\n",
    "\n",
    "features.add_data('https://www.google.com/search?q=cat&rlz=1C5CHFA_enAU956AU956&sxsrf=AOaemvLgtskxE5JJpqypGFxpQhmzosZF4A:1630918550096&source=lnms&tbm=isch&sa=X&sqi=2&ved=2ahUKEwi_qteG_enyAhWiq5UCHbCrChwQ_AUoAXoECAIQAw&biw=1539&bih=737#imgrc=ICe62_JkBNhtQM')\n",
    "\n",
    "features.make(fit=True)\n",
    "\n",
    "certi_qrcode = features.make_image(fill_color=\"green\", back_color=\"white\")\n",
    "certi_qrcode"
   ]
  },
  {
   "cell_type": "code",
   "execution_count": 52,
   "id": "5ee78f69-0d34-4d00-9709-8c6573769f52",
   "metadata": {},
   "outputs": [],
   "source": [
    "# Save the certificate qrcode\n",
    "certi_qrcode.save('VaxCert_qrcode3.png')"
   ]
  }
 ],
 "metadata": {
  "kernelspec": {
   "display_name": "Python [conda env:dev] *",
   "language": "python",
   "name": "conda-env-dev-py"
  },
  "language_info": {
   "codemirror_mode": {
    "name": "ipython",
    "version": 3
   },
   "file_extension": ".py",
   "mimetype": "text/x-python",
   "name": "python",
   "nbconvert_exporter": "python",
   "pygments_lexer": "ipython3",
   "version": "3.7.7"
  }
 },
 "nbformat": 4,
 "nbformat_minor": 5
}
