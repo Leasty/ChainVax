{
 "cells": [
  {
   "cell_type": "code",
   "execution_count": 1,
   "metadata": {},
   "outputs": [],
   "source": [
    "# !pip install opencv-python\n",
    "# !pip install qrcode"
   ]
  },
  {
   "cell_type": "code",
   "execution_count": 2,
   "metadata": {},
   "outputs": [
    {
     "ename": "ModuleNotFoundError",
     "evalue": "No module named 'web3'",
     "output_type": "error",
     "traceback": [
      "\u001b[1;31m---------------------------------------------------------------------------\u001b[0m",
      "\u001b[1;31mModuleNotFoundError\u001b[0m                       Traceback (most recent call last)",
      "\u001b[1;32m<ipython-input-2-fd0d44bd9645>\u001b[0m in \u001b[0;36m<module>\u001b[1;34m\u001b[0m\n\u001b[0;32m      4\u001b[0m \u001b[1;32mimport\u001b[0m \u001b[0mos\u001b[0m\u001b[1;33m\u001b[0m\u001b[1;33m\u001b[0m\u001b[0m\n\u001b[0;32m      5\u001b[0m \u001b[1;32mfrom\u001b[0m \u001b[0mdatetime\u001b[0m \u001b[1;32mimport\u001b[0m \u001b[0mdate\u001b[0m\u001b[1;33m\u001b[0m\u001b[1;33m\u001b[0m\u001b[0m\n\u001b[1;32m----> 6\u001b[1;33m \u001b[1;32mfrom\u001b[0m \u001b[0mweb3\u001b[0m\u001b[1;33m.\u001b[0m\u001b[0mproviders\u001b[0m\u001b[1;33m.\u001b[0m\u001b[0mrpc\u001b[0m \u001b[1;32mimport\u001b[0m \u001b[0mHTTPProvider\u001b[0m\u001b[1;33m\u001b[0m\u001b[1;33m\u001b[0m\u001b[0m\n\u001b[0m\u001b[0;32m      7\u001b[0m \u001b[1;32mfrom\u001b[0m \u001b[0mweb3\u001b[0m\u001b[1;33m.\u001b[0m\u001b[0mcontract\u001b[0m \u001b[1;32mimport\u001b[0m \u001b[0mConciseContract\u001b[0m\u001b[1;33m\u001b[0m\u001b[1;33m\u001b[0m\u001b[0m\n\u001b[0;32m      8\u001b[0m \u001b[1;32mimport\u001b[0m \u001b[0mcv2\u001b[0m \u001b[1;32mas\u001b[0m \u001b[0mcv\u001b[0m\u001b[1;33m\u001b[0m\u001b[1;33m\u001b[0m\u001b[0m\n",
      "\u001b[1;31mModuleNotFoundError\u001b[0m: No module named 'web3'"
     ]
    }
   ],
   "source": [
    "# import libraries\n",
    "import requests\n",
    "import json\n",
    "import os\n",
    "from datetime import date\n",
    "from web3.providers.rpc import HTTPProvider\n",
    "from web3.contract import ConciseContract\n",
    "import cv2 as cv\n",
    "import openpyxl\n",
    "import qrcode\n",
    "from dotenv import load_dotenv\n",
    "from pathlib import Path\n",
    "from web3 import Web3\n",
    "from pprint import pprint\n",
    "load_dotenv()"
   ]
  },
  {
   "cell_type": "code",
   "execution_count": null,
   "metadata": {},
   "outputs": [],
   "source": [
    "# assign values to keys and addresses\n",
    "pin_url = 'https://api.pinata.cloud/pinning/pinJSONToIPFS'\n",
    "PINATA_API_KEY = os.getenv('PINATA_API_KEY')\n",
    "PINATA_SECRET_KEY = os.getenv('PINATA_SECRET_KEY')\n",
    "WEB3_PROVIDER_URI = 'HTTP://127.0.0.1:8545'\n",
    "w3 = Web3(Web3.HTTPProvider(WEB3_PROVIDER_URI))\n",
    "CHAINVAX_ADDRESS = '0xcEfBD2E908C32A31A894Ca88e8625fd53256ACe0'\n",
    "headers = {\n",
    "    \"Content-Type\": \"application/json\",\n",
    "    \"pinata_api_key\": PINATA_API_KEY,\n",
    "    \"pinata_secret_api_key\": PINATA_SECRET_KEY,\n",
    "}"
   ]
  },
  {
   "cell_type": "code",
   "execution_count": null,
   "metadata": {},
   "outputs": [],
   "source": [
    "#We are going to make a function that sends a json object to pinata, so they can host it on the IPFS for us\n",
    "\n",
    "def pinJSONtoIPFS(json):\n",
    "    r = requests.post(pin_url, data=json, headers=headers)\n",
    "    ipfs_hash = r.json()[\"IpfsHash\"]\n",
    "    return f\"https://gateway.pinata.cloud/ipfs/{ipfs_hash}\""
   ]
  },
  {
   "cell_type": "code",
   "execution_count": null,
   "metadata": {},
   "outputs": [],
   "source": [
    "#We are going to make a function that sends a IMG object to pinata, so they can host it on the IPFS for us\n",
    "pin_img_url = 'https://api.pinata.cloud/pinning/pinFileToIPFS'\n",
    "img_headers = {\n",
    " \"pinata_api_key\": PINATA_API_KEY,\n",
    " \"pinata_secret_api_key\": PINATA_SECRET_KEY,\n",
    "}\n",
    "def pinIMGtoIPFS(img_pth):\n",
    "    file = {'file': open(img_pth, 'rb')}\n",
    "    r = requests.post(pin_img_url,files = file,headers=img_headers)\n",
    "    ipfs_hash = r.json()[\"IpfsHash\"]\n",
    "    return f\"https://gateway.pinata.cloud/ipfs/{ipfs_hash}\""
   ]
  },
  {
   "cell_type": "code",
   "execution_count": null,
   "metadata": {},
   "outputs": [],
   "source": [
    "def convertDataToJSON(name, dob, serial, date, docNo):\n",
    "    data = {\n",
    "    \"pinataOptions\": {\"cidVersion\": 1},\n",
    "    \"pinataContent\": {\n",
    "    \"certificate\": \"COVID Vaccination Certificate\",\n",
    "    \"name\": name,\n",
    "    \"date of birth\": dob,\n",
    "    \"vaccine serial number\": serial,\n",
    "    \"vaccine date\": date,\n",
    "    \"doccument number\": docNo,}\n",
    "}\n",
    "    return data #was doing json.dumps(data) but moved the .dumps to createVaccineCertificate function"
   ]
  },
  {
   "cell_type": "code",
   "execution_count": null,
   "metadata": {},
   "outputs": [],
   "source": [
    "# Inputs for the person being vaccinated to create a digital certificate as an NFT and send to their Ethernet wallet\n",
    "name = input(\"what is your name?: \")\n",
    "dob = input(\"what is your date of birth?: \")\n",
    "valid_from = str(date.today())\n",
    "serial = input(\"what is the vaccine serial number?: \")\n",
    "vax1 = input(\"what is your first vaccine dose: \")\n",
    "vax2 = input(\"what is your second vaccine dose?: \")\n",
    "vaxType = input(\"Vaccine Type: \")\n",
    "vaccinationDate = valid_from\n",
    "vaccinationType = vaxType\n",
    "vaccineSerialNumber = serial\n",
    "vax_serial_number = serial\n",
    "todays_date = valid_from\n",
    "address_owner = '0xc4026624e88D1fdC6E53cf901b22Dff30423F2ee'#this will be the owner of the smart contract\n",
    "address_recipient = input(\"what is your Ethernet wallet address?: \")"
   ]
  },
  {
   "cell_type": "code",
   "execution_count": null,
   "metadata": {},
   "outputs": [],
   "source": [
    "# what is your name?:  ChainVax Test\n",
    "# what is your date of birth?:  01/01/0101\n",
    "# what is the vaccine serial number?:  XPZR0000123789\n",
    "# what is your first vaccine dose:  C19 Vax PZ - 01/01/21\n",
    "# what is your second vaccine dose?:  C19 Vax PZ - 01/04/21\n",
    "# Vaccine Type:  Pfizer\n",
    "# what is your Ethernet wallet address?:  0x89CB4ACe78a8968abE2d668C1F9c5a699C35fB76"
   ]
  },
  {
   "cell_type": "code",
   "execution_count": null,
   "metadata": {},
   "outputs": [],
   "source": [
    "# create function to interact with smart contract and prepare values for writing the certificate\n",
    "def initContract():\n",
    "    with open(Path(\"ChainVax.json\")) as json_file:\n",
    "        abi = json.load(json_file)\n",
    "    return w3.eth.contract(address=CHAINVAX_ADDRESS, abi=abi)\n",
    "chainvax = initContract()\n",
    "reader = ConciseContract(chainvax)\n",
    "docNo = reader.totalSupply() +1\n",
    "vax_certi_temple_path = 'VaxCertiTemple.png'\n",
    "output_path = './'\n",
    "font_size = 1\n",
    "font_color = (0,0,0)"
   ]
  },
  {
   "cell_type": "code",
   "execution_count": null,
   "metadata": {},
   "outputs": [],
   "source": [
    "# this function creates a certificate from the arguments\n",
    "def vax_cert (name, dob, valid_from, vax_serial_number, vax1, vax2):\n",
    "    \n",
    "    # read the certificate template\n",
    "    vax_img = cv.imread(vax_certi_temple_path)\n",
    "\n",
    "    # choose the font from opencv\n",
    "    font = cv.FONT_HERSHEY_DUPLEX              \n",
    "\n",
    "    # get the size of the name to be\n",
    "    # printed\n",
    "    text_size = cv.getTextSize(name,font, font_size, 4)[0]     \n",
    "\n",
    "    cv.putText(vax_img, name,(20,252),font,font_size,font_color,1)\n",
    "    cv.putText(vax_img, dob,(50,310),font,font_size,font_color,1)\n",
    "    cv.putText(vax_img, valid_from,(50,373),font,font_size,font_color,1)\n",
    "    cv.putText(vax_img, str(vax_serial_number),(20,490),font,font_size,font_color,1)\n",
    "    cv.putText(vax_img, vax1,(10,545),font,font_size,font_color,1)\n",
    "    cv.putText(vax_img, vax2,(10,570),font,font_size,font_color,1)\n",
    "\n",
    "    # Output path along with the name of the\n",
    "    # certificate generated\n",
    "    certi_path = output_path + '/VaxCert2' + '.png'\n",
    "\n",
    "    # Save the certificate                      \n",
    "    cv.imwrite(certi_path,vax_img)\n",
    "    \n",
    "    return certi_path"
   ]
  },
  {
   "cell_type": "code",
   "execution_count": null,
   "metadata": {},
   "outputs": [],
   "source": [
    "# this funciton also takes the inputs from cell [7] and uses the vax_cert function creating a certificate and uploading to the IPFS\n",
    "# it then appends the IPFS URI to the json_data and uploads the json data to the IPFS\n",
    "# it then creates a QR code of the ceritifacte image for easy visualisation\n",
    "\n",
    "def createVaccineCertificate(name, dob, serial, todays_date, docNo, vax1, vax2):\n",
    "    reader = ConciseContract(chainvax)\n",
    "    docNo = reader.totalSupply() + 1\n",
    "    json_data = convertDataToJSON(name, dob, serial, todays_date, docNo)\n",
    "    png_file_path = vax_cert(name, dob, todays_date, docNo, vax1, vax2)\n",
    "    img_ipfs = pinIMGtoIPFS(png_file_path)\n",
    "    json_data[\"pinataContent\"]['img_ipfs_uri'] = img_ipfs\n",
    "    report_uri = pinJSONtoIPFS(json.dumps(json_data))\n",
    "    \n",
    "    qr = qrcode.QRCode(\n",
    "    # integer from 1 to 40 that controls the size of the QR Code\n",
    "    version=1,\n",
    "    # error_correction parameter controls the error correction used for the QR Code\n",
    "    error_correction=qrcode.constants.ERROR_CORRECT_L,\n",
    "    # box_size parameter controls how many pixels each \"box\" of the QR code is.\n",
    "    box_size=10,   \n",
    "    # border parameter controls how many boxes thick the border should be.\n",
    "    # the default is 4, which is the minimum\n",
    "    border=4,\n",
    "    )\n",
    "    # add your text here\n",
    "    ##qr.add_data(pinIMGtoIPFS('VaxCert2.png'))\n",
    "    qr.add_data(img_ipfs)\n",
    "    qr.make(fit=True)\n",
    "    # change the colors of the QR code\n",
    "    img = qr.make_image(fill_color=\"green\", back_color=\"Beige\")\n",
    "    # name the file and save it\n",
    "    img.save(\"QR_VaxCert.png\")\n",
    "    return report_uri"
   ]
  },
  {
   "cell_type": "code",
   "execution_count": null,
   "metadata": {},
   "outputs": [],
   "source": [
    "createVaccineCertificate(name, dob, serial, valid_from, docNo, vax1, vax2)"
   ]
  },
  {
   "cell_type": "code",
   "execution_count": null,
   "metadata": {},
   "outputs": [],
   "source": [
    "# #test function to interact with smart contract\n",
    "# def testFunction():\n",
    "#     tx_hash = chainvax.functions.testFunction().transact({\"from\": w3.eth.accounts[0]})\n",
    "#     receipt = w3.eth.waitForTransactionReceipt(tx_hash)\n",
    "#     return receipt"
   ]
  },
  {
   "cell_type": "code",
   "execution_count": null,
   "metadata": {},
   "outputs": [],
   "source": [
    "#testFunction()"
   ]
  },
  {
   "cell_type": "code",
   "execution_count": null,
   "metadata": {},
   "outputs": [],
   "source": [
    "# these are the arguments for the solidity smart contract(address owner, string memory DOB,string memory NAME, string memory vaccinationType, string memory vaccinationDate, string memory vaccineSerialNumber, string memory token_uri, address recipient) public returns(uint)\n",
    "# this funciton will now register the Vaccine Certificate on the blockchain\n",
    "\n",
    "def registerVaccineDose(address_owner, dob, name, vaccinationType, vaccinationDate, vaccineSerialNumber, report_uri, address_recipient):\n",
    "    tx_hash = chainvax.functions.registerVaccineDose(address_owner, dob, name, vaccinationType, vaccinationDate, vaccineSerialNumber, report_uri, address_recipient).transact({\"from\": w3.eth.accounts[0]})\n",
    "    receipt = w3.eth.waitForTransactionReceipt(tx_hash)\n",
    "    return receipt\n",
    "# This is calling a solidity function from python \n",
    "report_uri = createVaccineCertificate(name, dob, serial, todays_date, docNo, vax1, vax2)\n",
    "receipt = registerVaccineDose(address_owner, dob, name, vaccinationType, vaccinationDate, vaccineSerialNumber, report_uri, address_recipient)\n",
    "print(receipt)\n",
    "print(\"Report IPFS Hash:\", report_uri)"
   ]
  },
  {
   "cell_type": "code",
   "execution_count": null,
   "metadata": {},
   "outputs": [],
   "source": []
  }
 ],
 "metadata": {
  "kernelspec": {
   "display_name": "Python 3",
   "language": "python",
   "name": "python3"
  },
  "language_info": {
   "codemirror_mode": {
    "name": "ipython",
    "version": 3
   },
   "file_extension": ".py",
   "mimetype": "text/x-python",
   "name": "python",
   "nbconvert_exporter": "python",
   "pygments_lexer": "ipython3",
   "version": "3.7.9"
  }
 },
 "nbformat": 4,
 "nbformat_minor": 5
}
